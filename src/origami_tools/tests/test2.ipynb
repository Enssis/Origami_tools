{
 "cells": [
  {
   "cell_type": "code",
   "execution_count": 1,
   "id": "387e248b",
   "metadata": {},
   "outputs": [],
   "source": [
    "__name__ = \"origami_tools.test.test2\"\n",
    "from ..Geometry import *\n",
    "from ..Patron import Patron\n",
    "import numpy as np"
   ]
  },
  {
   "cell_type": "code",
   "execution_count": 2,
   "id": "4531b752",
   "metadata": {},
   "outputs": [
    {
     "data": {
      "image/svg+xml": [
       "<svg xmlns=\"http://www.w3.org/2000/svg\" width=\"30mm\" height=\"30mm\"><polygon stroke=\"black\" stroke-opacity=\"1\" stroke-width=\"2\" points=\"18.897637795275593 18.897637795275593 94.48818897637796 18.897637795275593 94.48818897637796 94.48818897637796 18.897637795275593 94.48818897637796 18.897637795275593 18.897637795275593\" fill=\"none\"/><line stroke=\"red\" stroke-opacity=\"0.5\" stroke-width=\"2\" x1=\"5mm\" y1=\"5mm\" x2=\"25mm\" y2=\"25mm\"/><line stroke=\"red\" stroke-opacity=\"0.5\" stroke-width=\"2\" x1=\"15.0mm\" y1=\"15.0mm\" x2=\"25mm\" y2=\"5mm\"/></svg>"
      ],
      "text/plain": [
       "<IPython.core.display.SVG object>"
      ]
     },
     "metadata": {},
     "output_type": "display_data"
    },
    {
     "name": "stdout",
     "output_type": "stream",
     "text": [
      "[-0.25, -0.25, -1.0]\n",
      "[-0.25, -1.0, -1.0]\n",
      "[-1.0, -0.25, -1.0]\n",
      "[-0.25, -0.25, -1.5]\n",
      "[-0.25, -1.5, -1.5]\n",
      "[-1.5, -0.25, -1.5]\n"
     ]
    },
    {
     "data": {
      "image/svg+xml": [
       "<svg xmlns=\"http://www.w3.org/2000/svg\" width=\"52mm\" height=\"30mm\"><path stroke=\"black\" stroke-opacity=\"1\" stroke-width=\"0\" d=\"M 95.43307086614173 17.95275590551181 L 95.43307086614173 95.43307086614173 L 17.95275590551181 95.43307086614173 L 17.95275590551181 17.95275590551181 L 95.43307086614173 17.95275590551181 M 88.19824795323555 93.54330708661418 L 19.84251968503937 25.187578818417997 L 19.84251968503937 93.54330708661418 L 88.19824795323555 93.54330708661418 M 93.54330708661418 25.18757881841801 L 62.03797251920541 56.69291338582678 L 93.54330708661418 88.19824795323555 L 93.54330708661418 25.18757881841801 M 56.69291338582678 51.347854252448144 L 88.19824795323555 19.84251968503937 L 25.187578818417997 19.84251968503937 L 56.69291338582678 51.347854252448144\" fill=\"black\"/><path stroke=\"black\" stroke-opacity=\"1\" stroke-width=\"0\" d=\"M 101.10236220472441 17.95275590551181 L 101.10236220472441 95.43307086614173 L 178.58267716535434 95.43307086614173 L 178.58267716535434 17.95275590551181 L 101.10236220472441 17.95275590551181 M 111.00971468431996 93.54330708661418 L 176.69291338582678 27.86010838510734 L 176.69291338582678 93.54330708661418 L 111.00971468431996 93.54330708661418 M 102.99212598425197 27.86010838510731 L 131.82493098497142 56.692913385826756 L 102.99212598425197 85.52571838654623 L 102.99212598425197 27.86010838510731 M 139.84251968503938 48.67532468575884 L 111.00971468431992 19.84251968503937 L 168.67532468575882 19.84251968503937 L 139.84251968503938 48.67532468575884\" fill=\"black\"/></svg>"
      ],
      "text/plain": [
       "<IPython.core.display.SVG object>"
      ]
     },
     "metadata": {},
     "output_type": "display_data"
    }
   ],
   "source": [
    "patron = Patron(\"test\", origin=Point(5,5))\n",
    "w, h = 20, 20\n",
    "patron.w_h(w, h)\n",
    "polygon = Polygon([\n",
    "    Point(0, 0),\n",
    "    Point(w, 0),\n",
    "    Point(w, h),\n",
    "    Point(0, h),\n",
    "    Point(0, 0)])\n",
    "\n",
    "pols, dec = polygon.cut(Line(Point(0, 0), Point(w, h)), [1, 1, 2, 1, 4])\n",
    "patron.add_shapes([polygon], outside=True)\n",
    "patron.add_folds([Line(Point(0, 0), Point(w, h)), Line(Point(w/2, h/2), Point(w, 0))], \"m\", np.pi/2)\n",
    "\n",
    "patron.show(\"patron\")\n",
    "patron_lasercut = patron.create_patron_offset(False, 1, 2, full=True)\n",
    "patron.mirror(Line(Point(w + 1, 0), Point(w + 1, 5)))\n",
    "patron.w_h(w * 2 + 2, h)\n",
    "patron_lasercut += patron.create_patron_offset(True, 1, 2, full=True)\n",
    "holed = patron_lasercut.shapes[0].shapes[0]\n",
    "# print(holed)\n",
    "patron_lasercut.show(\"patron\")\n",
    "# print(holed.as_svg())\n",
    "# patron_lasercut.show(\"cut\")"
   ]
  },
  {
   "cell_type": "code",
   "execution_count": 3,
   "id": "24987e23",
   "metadata": {},
   "outputs": [
    {
     "data": {
      "image/svg+xml": [
       "<svg xmlns=\"http://www.w3.org/2000/svg\" width=\"60.0mm\" height=\"60mm\"><line stroke=\"black\" stroke-opacity=\"1\" stroke-width=\"2\" x1=\"5mm\" y1=\"10mm\" x2=\"10.0mm\" y2=\"5mm\"/><line stroke=\"black\" stroke-opacity=\"1\" stroke-width=\"2\" x1=\"10.0mm\" y1=\"5mm\" x2=\"20.0mm\" y2=\"5mm\"/><line stroke=\"black\" stroke-opacity=\"1\" stroke-width=\"2\" x1=\"20.0mm\" y1=\"5mm\" x2=\"25mm\" y2=\"10mm\"/><line stroke=\"black\" stroke-opacity=\"1\" stroke-width=\"2\" x1=\"25mm\" y1=\"10mm\" x2=\"30.0mm\" y2=\"5mm\"/><line stroke=\"black\" stroke-opacity=\"1\" stroke-width=\"2\" x1=\"30.0mm\" y1=\"5mm\" x2=\"40.0mm\" y2=\"5mm\"/><line stroke=\"black\" stroke-opacity=\"1\" stroke-width=\"2\" x1=\"40.0mm\" y1=\"5mm\" x2=\"45mm\" y2=\"10mm\"/><line stroke=\"black\" stroke-opacity=\"1\" stroke-width=\"2\" x1=\"45mm\" y1=\"10mm\" x2=\"55.0mm\" y2=\"50mm\"/><line stroke=\"black\" stroke-opacity=\"1\" stroke-width=\"2\" x1=\"55.0mm\" y1=\"50mm\" x2=\"15.0mm\" y2=\"50mm\"/><line stroke=\"black\" stroke-opacity=\"1\" stroke-width=\"2\" x1=\"15.0mm\" y1=\"50mm\" x2=\"5mm\" y2=\"10mm\"/><line stroke=\"red\" stroke-opacity=\"0.5\" stroke-width=\"2\" x1=\"5mm\" y1=\"10mm\" x2=\"25mm\" y2=\"10mm\"/><line stroke=\"red\" stroke-opacity=\"0.5\" stroke-width=\"2\" x1=\"25mm\" y1=\"10mm\" x2=\"45mm\" y2=\"10mm\"/><line stroke=\"blue\" stroke-opacity=\"0.6666666666666667\" stroke-width=\"2\" x1=\"25mm\" y1=\"10mm\" x2=\"15.0mm\" y2=\"50mm\"/></svg>"
      ],
      "text/plain": [
       "<IPython.core.display.SVG object>"
      ]
     },
     "metadata": {},
     "output_type": "display_data"
    },
    {
     "name": "stdout",
     "output_type": "stream",
     "text": [
      "[-0.25, -1.0, -1.2886751345948129]\n",
      "[-0.25, -0.25, -0.25, -1.0]\n",
      "[-0.25, -0.25, -0.25, -1.0]\n",
      "[-1.0, -0.25, -0.25, -1.2886751345948129]\n"
     ]
    },
    {
     "data": {
      "image/svg+xml": [
       "<svg xmlns=\"http://www.w3.org/2000/svg\" width=\"60.0mm\" height=\"60mm\"><path stroke=\"black\" stroke-opacity=\"1\" stroke-width=\"0\" d=\"M 37.4038926969703 17.95275590551181 L 75.98193407468324 17.95275590551181 L 94.48818897637796 36.45901080720652 L 112.99444387807267 17.95275590551181 L 151.5724852557856 17.95275590551181 L 170.93193450810853 37.31220515783471 L 209.08419817927972 189.9212598425197 L 55.955171899460396 189.9212598425197 L 17.851215271560804 37.50543333092131 L 37.4038926969703 17.95275590551181 M 54.66965324851792 176.98748956829124 L 88.52282485318915 41.574803149606296 L 20.81648164384669 41.574803149606296 L 54.66965324851792 176.98748956829124 M 24.013430137675364 34.01574803149607 L 89.3723966339782 34.01574803149607 L 75.1991682875215 19.84251968503937 L 38.18665848413206 19.84251968503937 L 24.013430137675364 34.01574803149607 M 99.60398131877776 34.01574803149607 L 164.96294781508055 34.01574803149607 L 150.78971946862384 19.84251968503937 L 113.77720966523441 19.84251968503937 L 99.60398131877776 34.01574803149607 M 98.5637893200392 41.574803149606296 L 61.94961609169275 188.03149606299212 L 206.66383331678327 188.03149606299212 L 170.0496600884368 41.574803149606296 L 98.5637893200392 41.574803149606296\" fill=\"black\"/></svg>"
      ],
      "text/plain": [
       "<IPython.core.display.SVG object>"
      ]
     },
     "metadata": {},
     "output_type": "display_data"
    }
   ],
   "source": [
    "w, h = 20, 40\n",
    "A = Point(0, 0)\n",
    "B = Point(w, 0)\n",
    "C = Point(w, h)\n",
    "D = Point(0, h)\n",
    "E = Point(w/2, h)\n",
    "F = Point(3 * w/2, h)\n",
    "\n",
    "G = Point(w /4, -5)\n",
    "H = Point(3 * w / 4, -5)\n",
    "\n",
    "depl = Vec(w, 0)\n",
    "G2 = G + depl\n",
    "H2 = H + depl\n",
    "B2 = B + depl\n",
    "F = F + depl\n",
    "\n",
    "lines : list[Shape] = [Line(A,G), Line(G, H), Line(H, B), Line(B, G2), Line(G2, H2), Line(H2, B2), Line(B2, F), Line(F, E), Line(E, A)]\n",
    "patron = Patron(\"test2\", origin=Point(5, 10))\n",
    "patron.w_h(w * 2.5, h)\n",
    "patron.add_shapes(lines, outside=True)\n",
    "patron.add_folds([Line(A,B), Line(B, B2)], \"m\", np.pi/2)\n",
    "patron.add_folds([Line(B,E)], \"v\", np.pi/3)\n",
    "patron.show(\"patron\")\n",
    "\n",
    "patron_offset = patron.create_patron_offset(False, 1, 2, True)\n",
    "patron_offset.show(\"patron\")"
   ]
  }
 ],
 "metadata": {
  "kernelspec": {
   "display_name": "base",
   "language": "python",
   "name": "python3"
  },
  "language_info": {
   "codemirror_mode": {
    "name": "ipython",
    "version": 3
   },
   "file_extension": ".py",
   "mimetype": "text/x-python",
   "name": "python",
   "nbconvert_exporter": "python",
   "pygments_lexer": "ipython3",
   "version": "3.12.2"
  }
 },
 "nbformat": 4,
 "nbformat_minor": 5
}
