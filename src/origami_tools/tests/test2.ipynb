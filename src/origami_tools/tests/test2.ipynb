{
 "cells": [
  {
   "cell_type": "code",
   "execution_count": 1,
   "id": "387e248b",
   "metadata": {},
   "outputs": [],
   "source": [
    "__name__ = \"origami_tools.test.test2\"\n",
    "from ..geometry import *\n",
    "from ..decoupe_laser import *\n"
   ]
  },
  {
   "cell_type": "code",
   "execution_count": 2,
   "id": "4531b752",
   "metadata": {},
   "outputs": [
    {
     "data": {
      "image/svg+xml": [
       "<svg xmlns=\"http://www.w3.org/2000/svg\" width=\"30mm\" height=\"30mm\"><polygon stroke=\"black\" stroke-opacity=\"1\" stroke-width=\"2\" points=\"18.897637795275593 18.897637795275593 94.48818897637796 18.897637795275593 94.48818897637796 94.48818897637796 18.897637795275593 94.48818897637796 18.897637795275593 18.897637795275593\" fill=\"none\"/><line stroke=\"red\" stroke-opacity=\"0.5\" stroke-width=\"2\" x1=\"5mm\" y1=\"5mm\" x2=\"25mm\" y2=\"25mm\"/><line stroke=\"red\" stroke-opacity=\"0.5\" stroke-width=\"2\" x1=\"15.0mm\" y1=\"15.0mm\" x2=\"25mm\" y2=\"5mm\"/></svg>"
      ],
      "text/plain": [
       "<IPython.core.display.SVG object>"
      ]
     },
     "metadata": {},
     "output_type": "display_data"
    },
    {
     "name": "stdout",
     "output_type": "stream",
     "text": [
      "HoledPolygon(outside :Shape with 4 points in 2D: [Point(x=20.5, y=-0.5, z=None, dimension=2), Point(x=20.5, y=20.5, z=None, dimension=2), Point(x=-0.5, y=20.5, z=None, dimension=2), Point(x=-0.5, y=-0.5, z=None, dimension=2)]\n",
      ", holes : [Polygon(points=[Point(x=16.67157287525381, y=19.5, z=None, dimension=2), Point(x=0.5, y=3.3284271247461903, z=None, dimension=2), Point(x=0.5, y=19.5, z=None, dimension=2)]), Polygon(points=[Point(x=19.5, y=3.328427124746196, z=None, dimension=2), Point(x=12.828427124746192, y=10.000000000000002, z=None, dimension=2), Point(x=19.5, y=16.67157287525381, z=None, dimension=2)]), Polygon(points=[Point(x=9.999999999999996, y=7.171572875253807, z=None, dimension=2), Point(x=16.67157287525381, y=0.5, z=None, dimension=2), Point(x=3.3284271247461903, y=0.5, z=None, dimension=2)])])\n"
     ]
    },
    {
     "data": {
      "image/svg+xml": [
       "<svg xmlns=\"http://www.w3.org/2000/svg\" width=\"30mm\" height=\"30mm\"><path stroke=\"black\" stroke-opacity=\"1\" stroke-width=\"2\" d=\"M 96.37795275590551 17.007874015748033 L 96.37795275590551 96.37795275590551 L 17.007874015748033 96.37795275590551 L 17.007874015748033 17.007874015748033 L 96.37795275590551 17.007874015748033 M 81.90830693009315 92.5984251968504 L 20.787401574803148 31.477519841560405 L 20.787401574803148 92.5984251968504 L 81.90830693009315 92.5984251968504 M 92.5984251968504 31.477519841560426 L 67.38303165258404 56.69291338582678 L 92.5984251968504 81.90830693009315 L 92.5984251968504 31.477519841560426 M 56.692913385826756 46.0027951190695 L 81.90830693009315 20.787401574803148 L 31.477519841560405 20.787401574803148 L 56.692913385826756 46.0027951190695\" fill=\"black\"/></svg>"
      ],
      "text/plain": [
       "<IPython.core.display.SVG object>"
      ]
     },
     "metadata": {},
     "output_type": "display_data"
    },
    {
     "name": "stdout",
     "output_type": "stream",
     "text": [
      "<path stroke=\"black\" stroke-opacity=\"1\" stroke-width=\"1\" d=\"M 77.48031496062993 -1.889763779527559 L 77.48031496062993 77.48031496062993 L -1.889763779527559 77.48031496062993 L -1.889763779527559 -1.889763779527559 L 77.48031496062993 -1.889763779527559 M 63.01066913481755 73.70078740157481 L 1.889763779527559 12.579882046284816 L 1.889763779527559 73.70078740157481 L 63.01066913481755 73.70078740157481 M 73.70078740157481 12.579882046284837 L 48.48539385730845 37.795275590551185 L 73.70078740157481 63.01066913481755 L 73.70078740157481 12.579882046284837 M 37.79527559055117 27.105157323793918 L 63.01066913481755 1.889763779527559 L 12.579882046284816 1.889763779527559 L 37.79527559055117 27.105157323793918\" fill=\"none\"/>\n"
     ]
    }
   ],
   "source": [
    "patron = Patron(\"test\", origin=Point(5,5))\n",
    "w, h = 20, 20\n",
    "patron.w_h(w, h)\n",
    "polygon = Polygon([\n",
    "    Point(0, 0),\n",
    "    Point(w, 0),\n",
    "    Point(w, h),\n",
    "    Point(0, h),\n",
    "    Point(0, 0)])\n",
    "\n",
    "pols, dec = polygon.cut(Line(Point(0, 0), Point(w, h)), [1, 1, 2, 1, 4])\n",
    "patron.add_shapes([polygon], outside=True)\n",
    "patron.add_folds([Line(Point(0, 0), Point(w, h)), Line(Point(w/2, h/2), Point(w, 0))], \"m\", np.pi/2)\n",
    "\n",
    "patron.show(\"patron\")\n",
    "patron_lasercut = patron.create_patron_offset(False, 1, 2, full=True)\n",
    "holed = patron_lasercut.shapes[0].shapes[0]\n",
    "print(holed)\n",
    "patron_lasercut.show(\"patron\")\n",
    "print(holed.as_svg())\n",
    "# patron_lasercut.show(\"cut\")"
   ]
  },
  {
   "cell_type": "code",
   "execution_count": 11,
   "id": "24987e23",
   "metadata": {},
   "outputs": [
    {
     "data": {
      "image/svg+xml": [
       "<svg xmlns=\"http://www.w3.org/2000/svg\" width=\"60.0mm\" height=\"60mm\"><line stroke=\"black\" stroke-opacity=\"1\" stroke-width=\"2\" x1=\"5mm\" y1=\"10mm\" x2=\"10.0mm\" y2=\"5mm\"/><line stroke=\"black\" stroke-opacity=\"1\" stroke-width=\"2\" x1=\"10.0mm\" y1=\"5mm\" x2=\"20.0mm\" y2=\"5mm\"/><line stroke=\"black\" stroke-opacity=\"1\" stroke-width=\"2\" x1=\"20.0mm\" y1=\"5mm\" x2=\"25mm\" y2=\"10mm\"/><line stroke=\"black\" stroke-opacity=\"1\" stroke-width=\"2\" x1=\"25mm\" y1=\"10mm\" x2=\"30.0mm\" y2=\"5mm\"/><line stroke=\"black\" stroke-opacity=\"1\" stroke-width=\"2\" x1=\"30.0mm\" y1=\"5mm\" x2=\"40.0mm\" y2=\"5mm\"/><line stroke=\"black\" stroke-opacity=\"1\" stroke-width=\"2\" x1=\"40.0mm\" y1=\"5mm\" x2=\"45mm\" y2=\"10mm\"/><line stroke=\"black\" stroke-opacity=\"1\" stroke-width=\"2\" x1=\"45mm\" y1=\"10mm\" x2=\"55.0mm\" y2=\"50mm\"/><line stroke=\"black\" stroke-opacity=\"1\" stroke-width=\"2\" x1=\"55.0mm\" y1=\"50mm\" x2=\"15.0mm\" y2=\"50mm\"/><line stroke=\"black\" stroke-opacity=\"1\" stroke-width=\"2\" x1=\"15.0mm\" y1=\"50mm\" x2=\"5mm\" y2=\"10mm\"/><line stroke=\"red\" stroke-opacity=\"0.5\" stroke-width=\"2\" x1=\"5mm\" y1=\"10mm\" x2=\"25mm\" y2=\"10mm\"/><line stroke=\"red\" stroke-opacity=\"0.5\" stroke-width=\"2\" x1=\"25mm\" y1=\"10mm\" x2=\"45mm\" y2=\"10mm\"/><line stroke=\"blue\" stroke-opacity=\"0.6666666666666667\" stroke-width=\"2\" x1=\"25mm\" y1=\"10mm\" x2=\"15.0mm\" y2=\"50mm\"/></svg>"
      ],
      "text/plain": [
       "<IPython.core.display.SVG object>"
      ]
     },
     "metadata": {},
     "output_type": "display_data"
    },
    {
     "data": {
      "image/svg+xml": [
       "<svg xmlns=\"http://www.w3.org/2000/svg\" width=\"60.0mm\" height=\"60mm\"><path stroke=\"black\" stroke-opacity=\"1\" stroke-width=\"2\" d=\"M 37.01250980338943 17.007874015748033 L 76.37331696826412 17.007874015748033 L 94.48818897637796 35.12274602386187 L 112.6030609844918 17.007874015748033 L 151.96386814936648 17.007874015748033 L 171.78512885873673 36.82913472511829 L 210.294380610528 190.86614173228347 L 55.21743041309402 190.86614173228347 L 16.804792747846015 37.21559107129144 L 37.01250980338943 17.007874015748033 M 52.646393111209086 164.99860118382657 L 82.55746073000037 45.35433070866142 L 22.735325492417793 45.35433070866142 L 52.646393111209086 164.99860118382657 M 29.129222480075143 30.236220472440944 L 84.25660429157841 30.236220472440944 L 74.8077853939406 20.787401574803148 L 38.578041377712935 20.787401574803148 L 29.129222480075143 30.236220472440944 M 104.7197736611775 30.236220472440944 L 159.84715547268078 30.236220472440944 L 150.39833657504295 20.787401574803148 L 114.1685925588153 20.787401574803148 L 104.7197736611775 30.236220472440944 M 102.63938966370041 45.35433070866142 L 67.20631879755868 187.08661417322836 L 205.45365088553496 187.08661417322836 L 170.02058001939324 45.35433070866142 L 102.63938966370041 45.35433070866142\" fill=\"black\"/></svg>"
      ],
      "text/plain": [
       "<IPython.core.display.SVG object>"
      ]
     },
     "metadata": {},
     "output_type": "display_data"
    }
   ],
   "source": [
    "w, h = 20, 40\n",
    "A = Point(0, 0)\n",
    "B = Point(w, 0)\n",
    "C = Point(w, h)\n",
    "D = Point(0, h)\n",
    "E = Point(w/2, h)\n",
    "F = Point(3 * w/2, h)\n",
    "\n",
    "G = Point(w /4, -5)\n",
    "H = Point(3 * w / 4, -5)\n",
    "\n",
    "depl = Vec(w, 0)\n",
    "G2 = G + depl\n",
    "H2 = H + depl\n",
    "B2 = B + depl\n",
    "F = F + depl\n",
    "\n",
    "lines : list[Shape] = [Line(A,G), Line(G, H), Line(H, B), Line(B, G2), Line(G2, H2), Line(H2, B2), Line(B2, F), Line(F, E), Line(E, A)]\n",
    "patron = Patron(\"test2\", origin=Point(5, 10))\n",
    "patron.w_h(w * 2.5, h)\n",
    "patron.add_shapes(lines, outside=True)\n",
    "patron.add_folds([Line(A,B), Line(B, B2)], \"m\", np.pi/2)\n",
    "patron.add_folds([Line(B,E)], \"v\", np.pi/3)\n",
    "patron.show(\"patron\")\n",
    "\n",
    "patron_offset = patron.create_patron_offset(False, 1, 2, True)\n",
    "patron_offset.show(\"patron\")"
   ]
  }
 ],
 "metadata": {
  "kernelspec": {
   "display_name": "base",
   "language": "python",
   "name": "python3"
  },
  "language_info": {
   "codemirror_mode": {
    "name": "ipython",
    "version": 3
   },
   "file_extension": ".py",
   "mimetype": "text/x-python",
   "name": "python",
   "nbconvert_exporter": "python",
   "pygments_lexer": "ipython3",
   "version": "3.12.2"
  }
 },
 "nbformat": 4,
 "nbformat_minor": 5
}
